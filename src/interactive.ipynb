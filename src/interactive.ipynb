{
 "cells": [
  {
   "cell_type": "code",
   "execution_count": null,
   "id": "fb5cf0c2-1fd3-4079-825e-013dd0067d43",
   "metadata": {},
   "outputs": [],
   "source": [
    "import numpy as np\n",
    "import pandas as pd\n",
    "import matplotlib.pyplot as plt"
   ]
  },
  {
   "cell_type": "markdown",
   "id": "a29a4610-9840-40ba-804e-4549b9fd1f36",
   "metadata": {},
   "source": [
    "**Local:**"
   ]
  },
  {
   "cell_type": "code",
   "execution_count": null,
   "id": "72f677fb-6813-4755-a897-704958068b77",
   "metadata": {},
   "outputs": [],
   "source": [
    "import constants\n",
    "import constraints\n",
    "\n",
    "from datagolf import datagolf\n",
    "from fileman import fileman\n",
    "from picklejar import PickleJar"
   ]
  },
  {
   "cell_type": "markdown",
   "id": "cfddc7c5-ab55-4d20-8005-19a42bb3026b",
   "metadata": {},
   "source": [
    "**Optimizer: (bottom)**"
   ]
  },
  {
   "cell_type": "code",
   "execution_count": null,
   "id": "c795bdd0-8eb7-4840-83a1-0eb3c1007929",
   "metadata": {},
   "outputs": [],
   "source": [
    "import itertools\n",
    "from itertools import combinations\n",
    "\n",
    "from functools import cache\n",
    "from tqdm.notebook import tqdm\n",
    "\n",
    "from pandarallel import pandarallel\n",
    "pandarallel.initialize(use_memory_fs=True)"
   ]
  },
  {
   "cell_type": "code",
   "execution_count": null,
   "id": "517ec99c-5e0c-4851-ab67-1b5dcd789e35",
   "metadata": {},
   "outputs": [],
   "source": [
    "constants.pandas_settings()"
   ]
  },
  {
   "cell_type": "code",
   "execution_count": null,
   "id": "86bc5c91-4717-4eb7-9758-b8239bcfdf19",
   "metadata": {},
   "outputs": [],
   "source": [
    "def edit_fanduel():\n",
    "    # df = PickleJar.load('fanduel', 'csv')\n",
    "    # df = pd.read_csv( fileman.getfs('fanduel', 'csv') )\n",
    "    \n",
    "    df = pd.read_csv(f'../data/contest-files/{constants.tournament}.csv', usecols=constants.keep_cols)\n",
    "    df.columns = df.columns.str.lower()\n",
    "\n",
    "    ret = (df\n",
    "           .rename({'nickname': 'name'}, axis=1)\n",
    "           .loc[(df['injury indicator']!='O')]\n",
    "           .drop('injury indicator', axis=1)\n",
    "           .dropna()\n",
    "           .reset_index(drop=True)\n",
    "          )\n",
    "\n",
    "    col_types = { 'name': 'str', 'fppg': 'float' }\n",
    "    for col in ret.columns:\n",
    "        ret[col] = ret[col].astype(col_types.get(col,'int'))\n",
    "    \n",
    "    PickleJar.prepare(ret, 'fanduel')\n",
    "    return None\n",
    "                "
   ]
  },
  {
   "cell_type": "code",
   "execution_count": null,
   "id": "b7bb2ef2-7946-4f4e-8299-deb1eb487bca",
   "metadata": {},
   "outputs": [],
   "source": [
    "base_url = 'https://www.pgatour.com/stats/stat.0{}.html'\n",
    "sg_components = {\n",
    "    'tee': {\n",
    "        'url-id': 2567,\n",
    "        'sg-id': 'ott'\n",
    "    },\n",
    "    'approach': {\n",
    "        'url-id': 2568,\n",
    "        'sg-id': 'app'\n",
    "    },\n",
    "    'around': {\n",
    "        'url-id': 2569,\n",
    "        'sg-id': 'arg'\n",
    "    },\n",
    "    'green': {\n",
    "        'url-id': 2564,\n",
    "        'sg-id': 'putt'\n",
    "    },\n",
    "    'tee-to-green': {\n",
    "        'url-id': 2674,\n",
    "        'sg-id' : 'ttg'\n",
    "        }\n",
    "}\n",
    "\n",
    "new_col_names = {\n",
    "    'player name': 'name',\n",
    "    'rank this week': ' cur-rank',\n",
    "    'rank last week': ' prev-rank',\n",
    "    'average': ' sg',\n",
    "    'rounds': ' num-rounds',\n",
    "    'measured rounds': ' num-measured'\n",
    "}\n",
    "\n",
    "ab_cols = ('name', ' sg')"
   ]
  },
  {
   "cell_type": "code",
   "execution_count": null,
   "id": "779dfaa6-f14c-4a83-9235-82c2d4a353fd",
   "metadata": {},
   "outputs": [],
   "source": [
    "def sg_per(component, abbreviate=True):\n",
    "    \n",
    "    if component.lower() not in sg_components:\n",
    "        return None\n",
    "    \n",
    "    else:\n",
    "        info = sg_components.get(component.lower(), None)\n",
    "        if info is None:\n",
    "            print('ERROR: Never even loaded html...\\n')\n",
    "            return None\n",
    "        \n",
    "        else:\n",
    "            # url = f'https://www.pgatour.com/stats/stat.0{ info[\"url_id\"] }.html'\n",
    "            \n",
    "            ret = pd.read_html(base_url.format(info['url-id']))[1].reset_index(drop=True)\n",
    "            \n",
    "            ret.columns = ret.columns.str.lower().str.replace('total sg:', ' sg').str.replace('\\xa0', ' ')\n",
    "            ret = ret.rename(new_col_names, axis=1)\n",
    "\n",
    "            if abbreviate:\n",
    "                ret = ret.loc[:, ab_cols]\n",
    "            \n",
    "            ret.columns = ret.columns.str.replace(' ', f'{sg_components[component][\"sg-id\"]}-')\n",
    "\n",
    "            PickleJar.prepare(ret, 'strokes', fparam=component)\n",
    "            \n",
    "            return None\n",
    "        "
   ]
  },
  {
   "cell_type": "code",
   "execution_count": null,
   "id": "2c837c8f-84de-4731-9389-3b4630d714d9",
   "metadata": {},
   "outputs": [],
   "source": [
    "def agg_sg():\n",
    "\n",
    "    for component in sg_components:\n",
    "        sg_per(component)\n",
    "\n",
    "#         ---------------------------------------         #\n",
    "        \n",
    "    sg_frames = { component: PickleJar.load('strokes', fparam=component) for component in sg_components }\n",
    "\n",
    "    # Initialize frame as tee and merge rest of shots\n",
    "    sgdf = sg_frames['tee']\n",
    "    for k in list(sg_components.keys())[1:]:\n",
    "        sgdf = sgdf.merge(sg_frames[k])\n",
    "    ret = sgdf.reset_index(drop=True)\n",
    "    \n",
    "    PickleJar.prepare(ret,'strokes')                                                                \n",
    "    return None"
   ]
  },
  {
   "cell_type": "code",
   "execution_count": null,
   "id": "c6b085b7-b0ec-41fa-93b8-05b9fe76fc7e",
   "metadata": {},
   "outputs": [],
   "source": [
    "def combine_pga_fanduel():\n",
    "    \n",
    "    edit_fanduel()\n",
    "    fd = PickleJar.load('fanduel')\n",
    "    \n",
    "    agg_sg()\n",
    "    sg = PickleJar.load('strokes')\n",
    "    \n",
    "    focus_stats = [ constants.focus_stat ]\n",
    "    if constants.focus_stat_2 is not None:\n",
    "        focus_stats.append(constants.focus_stat_2)\n",
    "        if constants.focus_stat_3 is not None:\n",
    "            focus_stats.append(constants.focus_stat_3)\n",
    "    focus_stats = tuple(focus_stats)\n",
    "    \n",
    "    sg_lookup = PickleJar.load_set_idx('strokes', idx='name')\n",
    "    for sg_col in focus_stats:\n",
    "        fd[sg_col] = fd['name'].apply(lambda x: sg_lookup.loc[x, sg_col] if x in sg_lookup.index else 0.0)\n",
    "        fd[f'{sg_col}-per-10k'] = np.array( 10000 * fd[sg_col] / fd['salary'] )\n",
    "                           \n",
    "    combo = (fd\n",
    "             .dropna()\n",
    "             .reset_index(drop=True)\n",
    "            )\n",
    "    \n",
    "    PickleJar.prepare(combo, 'combined')\n",
    "    \n",
    "    return None"
   ]
  },
  {
   "cell_type": "code",
   "execution_count": null,
   "id": "b80cdff9-b699-45f3-946a-ca7919b3459d",
   "metadata": {},
   "outputs": [],
   "source": [
    "def add_constraints():\n",
    "    \n",
    "    combine_pga_fanduel()\n",
    "    ret = PickleJar.load('combined')\n",
    "    \n",
    "    if constraints.min_salary is not None:\n",
    "        print(f'Excluding players less than ${constraints.min_salary}...')\n",
    "        ret = (ret\n",
    "               .loc[ ret['salary']>=constraints.min_salary ]\n",
    "               .reset_index(drop=True)\n",
    "              )\n",
    "\n",
    "    PickleJar.prepare(ret, 'optimizer', fparam='raw')\n",
    "    return None"
   ]
  },
  {
   "cell_type": "code",
   "execution_count": null,
   "id": "54aea71a-b090-4ca5-ac86-df4bc3fdcd97",
   "metadata": {},
   "outputs": [],
   "source": [
    "def prepare_input():\n",
    "    \n",
    "    add_constraints()\n",
    "    ret = PickleJar.load('optimizer', fparam='raw')\n",
    "    ret_names = ret['name'].values.tolist()\n",
    "    \n",
    "    ret['proj-pts'] = ret['name'].apply(datagolf.proj_pts)\n",
    "    #ret['cfit-adj'] = ret['name'].apply(dapi.proj_skd)\n",
    "    #ret['cfit-pts'] = ret['proj-pts']+(ret['proj-pts']*ret['cfit-adj'])\n",
    "    ret['salary'] /= 100\n",
    "    \n",
    "    PickleJar.prepare(ret, 'optimizer')\n",
    "    return None\n",
    "    "
   ]
  },
  {
   "cell_type": "markdown",
   "id": "62f1bcc7-fc63-4a41-987b-4f62d033881c",
   "metadata": {
    "tags": []
   },
   "source": [
    "`from numba import vectorize\n",
    "\n",
    "@vectorize(['float32(float32, float32)'], target='cuda')\n",
    "def Multi(a, b):\n",
    "    return a*b`"
   ]
  },
  {
   "cell_type": "code",
   "execution_count": null,
   "id": "45aa0011-d3be-40af-a9f8-80c702fa4f79",
   "metadata": {
    "tags": []
   },
   "outputs": [],
   "source": [
    "prepare_input()\n",
    "data = PickleJar.load_set_idx('optimizer', idx='name')\n",
    "pnames = data.index.values.tolist()\n",
    "\n",
    "@cache\n",
    "def get_value(name, column):\n",
    "    return( data.loc[name, column] )\n",
    "\n",
    "@cache\n",
    "def sum_values(names, column):\n",
    "    return( sum( [ get_value(name, column) for name in names ] ) )\n",
    "\n",
    "@cache\n",
    "def is_valid_lineup(lineup):\n",
    "    return( sum_values(lineup, 'salary') in constraints.cost_range and len(set(lineup))==6 )\n",
    "\n",
    "@cache\n",
    "def lineup_analysis(lineup):\n",
    "    return(tuple( [ sum_values(tuple(set(lineup)),column) for column in constraints.cols_to_sum ] ) )\n",
    "\n",
    "def lineup_analysis_wrapper(lineup):\n",
    "    return( lineup_analysis(tuple(set(lineup.to_numpy()))) if is_valid_lineup(tuple(set(lineup.to_numpy()))) else (0.0,)*len(constraints.cols_to_sum)  )\n",
    "\n",
    "def create_lineup_2_slices(slate_dict):\n",
    "#     2 things of three\n",
    "    ret_list = list()\n",
    "    \n",
    "    for half_slates in tqdm( [p for p in itertools.product(*slate_dict.values())] ):\n",
    "        g1,g2,g3 = tuple(sorted(list(half_slates[0])))\n",
    "        g4,g5,g6 = tuple(sorted(list(half_slates[1])))\n",
    "        \n",
    "        lu = (g1,g2,g3,g4,g5,g6)\n",
    "        if is_valid_lineup(lu):\n",
    "            ret_list.append(lu)\n",
    "    \n",
    "    return tuple(ret_list)\n",
    "\n",
    "def create_lineup_3_slices(slate_dict):\n",
    "#     3 things of two\n",
    "    ret_list = list()\n",
    "    \n",
    "    for third_slates in tqdm( [p for p in itertools.product(*slate_dict.values())] ):\n",
    "        g1,g2 = tuple(sorted(list(third_slates[0])))\n",
    "        g3,g4 = tuple(sorted(list(third_slates[1])))\n",
    "        g5,g6 = tuple(sorted(list(third_slates[2])))\n",
    "        \n",
    "        lu = (g1,g2,g3,g4,g5,g6)\n",
    "        if is_valid_lineup(lu):\n",
    "            ret_list.append(lu)\n",
    "    \n",
    "    return tuple(ret_list)\n",
    "\n",
    "# Trying to get better about only passing tuples or other completely immutable for default and for cache\n",
    "def create_lineups():\n",
    "    \n",
    "    # Not necessary but makes reading easier\n",
    "    num_players = 6 # (n)\n",
    "    num_slices = constraints.slices\n",
    "    \n",
    "    step = int( len(pnames) * num_slices**-1 ) # Refers to partition of all names --> 2 slices of 120 players == (:120,120:)\n",
    "    r = int(num_players / num_slices) # (nCr)\n",
    "    #     All possible combos for each half of pnames, dont intersect as of rn\n",
    "    \n",
    "    slates = dict()\n",
    "    if num_slices == 2:\n",
    "        slates = {\n",
    "            'slate1': tuple(map( tuple, itertools.combinations(pnames[:step], r) )),\n",
    "            'slate2': tuple(map( tuple, itertools.combinations(pnames[step:], r) ))\n",
    "        }\n",
    "        \n",
    "    elif num_slices == 3:\n",
    "        slates = {\n",
    "            'slate1': tuple(map( tuple, itertools.combinations(pnames[:step], r) )),\n",
    "            'slate2': tuple(map( tuple, itertools.combinations(pnames[step:int(2*step)], r) )),\n",
    "            'slate3': tuple(map( tuple, itertools.combinations(pnames[int(2*step):], r) )),\n",
    "        }\n",
    "    \n",
    "    lineups = create_lineup_2_slices(slates) if num_slices==2 else create_lineup_3_slices(slates)\n",
    "    ret = pd.DataFrame(lineups, columns=['g1','g2','g3','g4','g5','g6'])\n",
    "    \n",
    "    # Badda bing\n",
    "    ret[constraints.cols_to_sum] = ret.parallel_apply( lineup_analysis_wrapper, axis=1, result_type='expand' )\n",
    "    ret = (ret\n",
    "           .sort_values(by='proj-pts', ascending=False)\n",
    "           .drop_duplicates()\n",
    "           .reset_index(drop=True)\n",
    "          )\n",
    "\n",
    "    PickleJar.prepare(ret, 'created')\n",
    "    print('Done...')\n",
    "    \n",
    "    return None\n",
    "\n",
    "def output_lineups(top_num=100):\n",
    "    return PickleJar.load('created').head(top_num)\n",
    "    "
   ]
  },
  {
   "cell_type": "code",
   "execution_count": null,
   "id": "8e61588f-de3e-436c-b1bc-3c55bee3409f",
   "metadata": {
    "tags": []
   },
   "outputs": [],
   "source": [
    "def output_lineups_by(sort_by=('proj-pts',)):\n",
    "    return PickleJar.load('created').sort_values(by=sort_by[0], ascending=False).head(100)"
   ]
  },
  {
   "cell_type": "code",
   "execution_count": null,
   "id": "0ca102ee-44c6-451b-9045-9288d65fa282",
   "metadata": {
    "tags": []
   },
   "outputs": [],
   "source": [
    "def create_func():\n",
    "    if constants.create:\n",
    "        print(f'Creating lineups...\\n{constraints.slices} partitions of names\\n')\n",
    "        create_lineups()\n",
    "    return output_lineups_by()"
   ]
  },
  {
   "cell_type": "code",
   "execution_count": null,
   "id": "d8d7923b-7cc5-4e68-b61c-068baa6ad623",
   "metadata": {
    "tags": []
   },
   "outputs": [],
   "source": [
    "create_func()"
   ]
  },
  {
   "cell_type": "code",
   "execution_count": null,
   "id": "9585c470-1042-4b7f-815e-7e3cacf9be2c",
   "metadata": {},
   "outputs": [],
   "source": []
  }
 ],
 "metadata": {
  "kernelspec": {
   "display_name": "Python 3 (ipykernel)",
   "language": "python",
   "name": "python3"
  },
  "language_info": {
   "codemirror_mode": {
    "name": "ipython",
    "version": 3
   },
   "file_extension": ".py",
   "mimetype": "text/x-python",
   "name": "python",
   "nbconvert_exporter": "python",
   "pygments_lexer": "ipython3",
   "version": "3.10.5"
  }
 },
 "nbformat": 4,
 "nbformat_minor": 5
}
