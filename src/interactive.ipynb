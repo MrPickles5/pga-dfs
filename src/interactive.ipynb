{
 "cells": [
  {
   "cell_type": "code",
   "execution_count": 1,
   "id": "fb5cf0c2-1fd3-4079-825e-013dd0067d43",
   "metadata": {},
   "outputs": [],
   "source": [
    "import numpy as np\n",
    "import pandas as pd\n",
    "import matplotlib.pyplot as plt"
   ]
  },
  {
   "cell_type": "markdown",
   "id": "a29a4610-9840-40ba-804e-4549b9fd1f36",
   "metadata": {},
   "source": [
    "**Local:**"
   ]
  },
  {
   "cell_type": "code",
   "execution_count": 2,
   "id": "72f677fb-6813-4755-a897-704958068b77",
   "metadata": {},
   "outputs": [
    {
     "name": "stdout",
     "output_type": "stream",
     "text": [
      "INFO: Pandarallel will run on 16 workers.\n",
      "INFO: Pandarallel will use Memory file system to transfer data between the main process and workers.\n",
      "Excluding players less than $8200...\n"
     ]
    }
   ],
   "source": [
    "import constants\n",
    "import constraints\n",
    "\n",
    "from datagolf import DataGolf\n",
    "from fileman import fileman\n",
    "from pga import PGA\n",
    "from picklejar import PickleJar\n",
    "\n",
    "from dataprep import DataPrep\n",
    "from optimizer import Optimizer"
   ]
  },
  {
   "cell_type": "code",
   "execution_count": 3,
   "id": "d8d7923b-7cc5-4e68-b61c-068baa6ad623",
   "metadata": {
    "tags": []
   },
   "outputs": [
    {
     "name": "stdout",
     "output_type": "stream",
     "text": [
      "Creating lineups...\n",
      "\n"
     ]
    },
    {
     "data": {
      "application/vnd.jupyter.widget-view+json": {
       "model_id": "aeb875784b094a21912bd33c79427a0d",
       "version_major": 2,
       "version_minor": 0
      },
      "text/plain": [
       "  0%|          | 0/32648704 [00:00<?, ?it/s]"
      ]
     },
     "metadata": {},
     "output_type": "display_data"
    },
    {
     "ename": "NameError",
     "evalue": "name 'is_valid_lineup' is not defined",
     "output_type": "error",
     "traceback": [
      "\u001b[0;31m---------------------------------------------------------------------------\u001b[0m",
      "\u001b[0;31mNameError\u001b[0m                                 Traceback (most recent call last)",
      "Input \u001b[0;32mIn [3]\u001b[0m, in \u001b[0;36m<cell line: 1>\u001b[0;34m()\u001b[0m\n\u001b[0;32m----> 1\u001b[0m \u001b[43mOptimizer\u001b[49m\u001b[38;5;241;43m.\u001b[39;49m\u001b[43mRun\u001b[49m\u001b[43m(\u001b[49m\u001b[43m)\u001b[49m\n",
      "File \u001b[0;32m~/devel/repos/pga-dfs-git/pga-dfs/src/optimizer/core.py:133\u001b[0m, in \u001b[0;36mOptimizer.Run\u001b[0;34m(cls, sort_by)\u001b[0m\n\u001b[1;32m    130\u001b[0m \u001b[38;5;129m@classmethod\u001b[39m\n\u001b[1;32m    131\u001b[0m \u001b[38;5;28;01mdef\u001b[39;00m \u001b[38;5;21mRun\u001b[39m(\u001b[38;5;28mcls\u001b[39m, sort_by\u001b[38;5;241m=\u001b[39m(\u001b[38;5;124m'\u001b[39m\u001b[38;5;124mproj-pts\u001b[39m\u001b[38;5;124m'\u001b[39m,)):\n\u001b[1;32m    132\u001b[0m     \u001b[38;5;28mprint\u001b[39m(\u001b[38;5;124m'\u001b[39m\u001b[38;5;124mCreating lineups...\u001b[39m\u001b[38;5;130;01m\\n\u001b[39;00m\u001b[38;5;124m'\u001b[39m)\n\u001b[0;32m--> 133\u001b[0m     \u001b[38;5;28;43mcls\u001b[39;49m\u001b[38;5;241;43m.\u001b[39;49m\u001b[43mCreate\u001b[49m\u001b[43m(\u001b[49m\u001b[43m)\u001b[49m\n\u001b[1;32m    134\u001b[0m     \u001b[38;5;28;01mreturn\u001b[39;00m output_lineups_by(sort_by)\n",
      "File \u001b[0;32m~/devel/repos/pga-dfs-git/pga-dfs/src/optimizer/core.py:110\u001b[0m, in \u001b[0;36mOptimizer.Create\u001b[0;34m(cls)\u001b[0m\n\u001b[1;32m    103\u001b[0m \u001b[38;5;28;01melif\u001b[39;00m num_slices \u001b[38;5;241m==\u001b[39m \u001b[38;5;241m3\u001b[39m:\n\u001b[1;32m    104\u001b[0m     slates \u001b[38;5;241m=\u001b[39m {\n\u001b[1;32m    105\u001b[0m         \u001b[38;5;124m'\u001b[39m\u001b[38;5;124mslate1\u001b[39m\u001b[38;5;124m'\u001b[39m: \u001b[38;5;28mtuple\u001b[39m(\u001b[38;5;28mmap\u001b[39m( \u001b[38;5;28mtuple\u001b[39m, itertools\u001b[38;5;241m.\u001b[39mcombinations(\u001b[38;5;28mcls\u001b[39m\u001b[38;5;241m.\u001b[39mpnames[:step], r) )),\n\u001b[1;32m    106\u001b[0m         \u001b[38;5;124m'\u001b[39m\u001b[38;5;124mslate2\u001b[39m\u001b[38;5;124m'\u001b[39m: \u001b[38;5;28mtuple\u001b[39m(\u001b[38;5;28mmap\u001b[39m( \u001b[38;5;28mtuple\u001b[39m, itertools\u001b[38;5;241m.\u001b[39mcombinations(\u001b[38;5;28mcls\u001b[39m\u001b[38;5;241m.\u001b[39mpnames[step:\u001b[38;5;28mint\u001b[39m(\u001b[38;5;241m2\u001b[39m\u001b[38;5;241m*\u001b[39mstep)], r) )),\n\u001b[1;32m    107\u001b[0m         \u001b[38;5;124m'\u001b[39m\u001b[38;5;124mslate3\u001b[39m\u001b[38;5;124m'\u001b[39m: \u001b[38;5;28mtuple\u001b[39m(\u001b[38;5;28mmap\u001b[39m( \u001b[38;5;28mtuple\u001b[39m, itertools\u001b[38;5;241m.\u001b[39mcombinations(\u001b[38;5;28mcls\u001b[39m\u001b[38;5;241m.\u001b[39mpnames[\u001b[38;5;28mint\u001b[39m(\u001b[38;5;241m2\u001b[39m\u001b[38;5;241m*\u001b[39mstep):], r) )),\n\u001b[1;32m    108\u001b[0m     }\n\u001b[0;32m--> 110\u001b[0m lineups \u001b[38;5;241m=\u001b[39m \u001b[38;5;28;43mcls\u001b[39;49m\u001b[38;5;241;43m.\u001b[39;49m\u001b[43mcreate_lineup_2_slices\u001b[49m\u001b[43m(\u001b[49m\u001b[43mslates\u001b[49m\u001b[43m)\u001b[49m \u001b[38;5;28;01mif\u001b[39;00m num_slices\u001b[38;5;241m==\u001b[39m\u001b[38;5;241m2\u001b[39m \u001b[38;5;28;01melse\u001b[39;00m \u001b[38;5;28mcls\u001b[39m\u001b[38;5;241m.\u001b[39mcreate_lineup_3_slices(slates)\n\u001b[1;32m    111\u001b[0m ret \u001b[38;5;241m=\u001b[39m pd\u001b[38;5;241m.\u001b[39mDataFrame(lineups, columns\u001b[38;5;241m=\u001b[39m[\u001b[38;5;124m'\u001b[39m\u001b[38;5;124mg1\u001b[39m\u001b[38;5;124m'\u001b[39m,\u001b[38;5;124m'\u001b[39m\u001b[38;5;124mg2\u001b[39m\u001b[38;5;124m'\u001b[39m,\u001b[38;5;124m'\u001b[39m\u001b[38;5;124mg3\u001b[39m\u001b[38;5;124m'\u001b[39m,\u001b[38;5;124m'\u001b[39m\u001b[38;5;124mg4\u001b[39m\u001b[38;5;124m'\u001b[39m,\u001b[38;5;124m'\u001b[39m\u001b[38;5;124mg5\u001b[39m\u001b[38;5;124m'\u001b[39m,\u001b[38;5;124m'\u001b[39m\u001b[38;5;124mg6\u001b[39m\u001b[38;5;124m'\u001b[39m])\n\u001b[1;32m    113\u001b[0m \u001b[38;5;66;03m# Badda bing\u001b[39;00m\n",
      "File \u001b[0;32m~/devel/repos/pga-dfs-git/pga-dfs/src/optimizer/core.py:64\u001b[0m, in \u001b[0;36mOptimizer.create_lineup_2_slices\u001b[0;34m(slate_dict)\u001b[0m\n\u001b[1;32m     61\u001b[0m     g4,g5,g6 \u001b[38;5;241m=\u001b[39m \u001b[38;5;28mtuple\u001b[39m(\u001b[38;5;28msorted\u001b[39m(\u001b[38;5;28mlist\u001b[39m(half_slates[\u001b[38;5;241m1\u001b[39m])))\n\u001b[1;32m     63\u001b[0m     lu \u001b[38;5;241m=\u001b[39m (g1,g2,g3,g4,g5,g6)\n\u001b[0;32m---> 64\u001b[0m     \u001b[38;5;28;01mif\u001b[39;00m \u001b[43mis_valid_lineup\u001b[49m(lu):\n\u001b[1;32m     65\u001b[0m         ret_list\u001b[38;5;241m.\u001b[39mappend(lu)\n\u001b[1;32m     67\u001b[0m \u001b[38;5;28;01mreturn\u001b[39;00m \u001b[38;5;28mtuple\u001b[39m(ret_list)\n",
      "\u001b[0;31mNameError\u001b[0m: name 'is_valid_lineup' is not defined"
     ]
    }
   ],
   "source": [
    "Optimizer.Run()"
   ]
  },
  {
   "cell_type": "code",
   "execution_count": null,
   "id": "9585c470-1042-4b7f-815e-7e3cacf9be2c",
   "metadata": {},
   "outputs": [],
   "source": []
  }
 ],
 "metadata": {
  "kernelspec": {
   "display_name": "Python 3 (ipykernel)",
   "language": "python",
   "name": "python3"
  },
  "language_info": {
   "codemirror_mode": {
    "name": "ipython",
    "version": 3
   },
   "file_extension": ".py",
   "mimetype": "text/x-python",
   "name": "python",
   "nbconvert_exporter": "python",
   "pygments_lexer": "ipython3",
   "version": "3.10.5"
  }
 },
 "nbformat": 4,
 "nbformat_minor": 5
}
