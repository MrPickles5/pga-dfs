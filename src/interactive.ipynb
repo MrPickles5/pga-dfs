{
 "cells": [
  {
   "cell_type": "code",
   "execution_count": null,
   "id": "fb5cf0c2-1fd3-4079-825e-013dd0067d43",
   "metadata": {},
   "outputs": [],
   "source": [
    "import numpy as np\n",
    "import pandas as pd\n",
    "import matplotlib.pyplot as plt"
   ]
  },
  {
   "cell_type": "markdown",
   "id": "a29a4610-9840-40ba-804e-4549b9fd1f36",
   "metadata": {},
   "source": [
    "**Local:**"
   ]
  },
  {
   "cell_type": "code",
   "execution_count": null,
   "id": "72f677fb-6813-4755-a897-704958068b77",
   "metadata": {},
   "outputs": [],
   "source": [
    "import constants\n",
    "import constraints\n",
    "\n",
    "from datagolf import DataGolf\n",
    "from fileman import fileman\n",
    "from pga import PGA\n",
    "from picklejar import PickleJar\n",
    "\n",
    "from dataprep import DataPrep\n",
    "from optimizer import Optimizer"
   ]
  },
  {
   "cell_type": "code",
   "execution_count": null,
   "id": "d8d7923b-7cc5-4e68-b61c-068baa6ad623",
   "metadata": {
    "tags": []
   },
   "outputs": [],
   "source": [
    "Optimizer.Run()"
   ]
  },
  {
   "cell_type": "code",
   "execution_count": null,
   "id": "9585c470-1042-4b7f-815e-7e3cacf9be2c",
   "metadata": {},
   "outputs": [],
   "source": []
  }
 ],
 "metadata": {
  "kernelspec": {
   "display_name": "Python 3 (ipykernel)",
   "language": "python",
   "name": "python3"
  },
  "language_info": {
   "codemirror_mode": {
    "name": "ipython",
    "version": 3
   },
   "file_extension": ".py",
   "mimetype": "text/x-python",
   "name": "python",
   "nbconvert_exporter": "python",
   "pygments_lexer": "ipython3",
   "version": "3.10.5"
  }
 },
 "nbformat": 4,
 "nbformat_minor": 5
}
