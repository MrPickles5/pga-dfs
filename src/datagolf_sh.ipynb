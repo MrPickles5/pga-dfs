{
 "cells": [
  {
   "cell_type": "code",
   "execution_count": 1,
   "id": "7895dbfb-8979-4c1e-b766-3ca5d81d29ca",
   "metadata": {},
   "outputs": [],
   "source": [
    "import constants\n",
    "constants.pandas_settings()\n",
    "\n",
    "from datagolf import DataGolf"
   ]
  },
  {
   "cell_type": "code",
   "execution_count": null,
   "id": "4e187367-a19e-4b74-a6e5-c0d9e1d3be8f",
   "metadata": {
    "tags": []
   },
   "outputs": [],
   "source": []
  },
  {
   "cell_type": "code",
   "execution_count": 3,
   "id": "a49a347a-2e6b-4da2-9104-34c7135ac770",
   "metadata": {},
   "outputs": [
    {
     "data": {
      "text/html": [
       "<div>\n",
       "<style scoped>\n",
       "    .dataframe tbody tr th:only-of-type {\n",
       "        vertical-align: middle;\n",
       "    }\n",
       "\n",
       "    .dataframe tbody tr th {\n",
       "        vertical-align: top;\n",
       "    }\n",
       "\n",
       "    .dataframe thead th {\n",
       "        text-align: right;\n",
       "    }\n",
       "</style>\n",
       "<table border=\"1\" class=\"dataframe\">\n",
       "  <thead>\n",
       "    <tr style=\"text-align: right;\">\n",
       "      <th></th>\n",
       "      <th>name</th>\n",
       "      <th>baseline</th>\n",
       "      <th>final</th>\n",
       "      <th>category-sg</th>\n",
       "      <th>true-sg</th>\n",
       "      <th>driving-accuracy</th>\n",
       "      <th>total-fit</th>\n",
       "    </tr>\n",
       "  </thead>\n",
       "  <tbody>\n",
       "    <tr>\n",
       "      <th>0</th>\n",
       "      <td>Sungjae Im</td>\n",
       "      <td>1.101</td>\n",
       "      <td>1.421</td>\n",
       "      <td>0.218</td>\n",
       "      <td>0.072</td>\n",
       "      <td>0.104</td>\n",
       "      <td>0.047</td>\n",
       "    </tr>\n",
       "    <tr>\n",
       "      <th>1</th>\n",
       "      <td>Tony Finau</td>\n",
       "      <td>1.435</td>\n",
       "      <td>1.228</td>\n",
       "      <td>-0.043</td>\n",
       "      <td>-0.024</td>\n",
       "      <td>-0.050</td>\n",
       "      <td>-0.145</td>\n",
       "    </tr>\n",
       "    <tr>\n",
       "      <th>2</th>\n",
       "      <td>Hideki Matsuyama</td>\n",
       "      <td>1.350</td>\n",
       "      <td>1.214</td>\n",
       "      <td>-0.018</td>\n",
       "      <td>-0.042</td>\n",
       "      <td>0.019</td>\n",
       "      <td>-0.046</td>\n",
       "    </tr>\n",
       "    <tr>\n",
       "      <th>3</th>\n",
       "      <td>Cameron Tringale</td>\n",
       "      <td>0.826</td>\n",
       "      <td>0.871</td>\n",
       "      <td>-0.043</td>\n",
       "      <td>0.037</td>\n",
       "      <td>0.023</td>\n",
       "      <td>-0.022</td>\n",
       "    </tr>\n",
       "    <tr>\n",
       "      <th>4</th>\n",
       "      <td>Brendan Steele</td>\n",
       "      <td>0.641</td>\n",
       "      <td>0.811</td>\n",
       "      <td>0.168</td>\n",
       "      <td>-0.025</td>\n",
       "      <td>0.069</td>\n",
       "      <td>0.034</td>\n",
       "    </tr>\n",
       "  </tbody>\n",
       "</table>\n",
       "</div>"
      ],
      "text/plain": [
       "               name  baseline  final  category-sg  true-sg  driving-accuracy  total-fit\n",
       "0        Sungjae Im     1.101  1.421        0.218    0.072             0.104      0.047\n",
       "1        Tony Finau     1.435  1.228       -0.043   -0.024            -0.050     -0.145\n",
       "2  Hideki Matsuyama     1.350  1.214       -0.018   -0.042             0.019     -0.046\n",
       "3  Cameron Tringale     0.826  0.871       -0.043    0.037             0.023     -0.022\n",
       "4    Brendan Steele     0.641  0.811        0.168   -0.025             0.069      0.034"
      ]
     },
     "execution_count": 3,
     "metadata": {},
     "output_type": "execute_result"
    }
   ],
   "source": [
    "DataGolf.skills(general=False).head()"
   ]
  },
  {
   "cell_type": "code",
   "execution_count": null,
   "id": "1e5f5f38-8e75-4b1b-bd55-0fe56bd1c5a9",
   "metadata": {},
   "outputs": [],
   "source": []
  }
 ],
 "metadata": {
  "kernelspec": {
   "display_name": "Python 3 (ipykernel)",
   "language": "python",
   "name": "python3"
  },
  "language_info": {
   "codemirror_mode": {
    "name": "ipython",
    "version": 3
   },
   "file_extension": ".py",
   "mimetype": "text/x-python",
   "name": "python",
   "nbconvert_exporter": "python",
   "pygments_lexer": "ipython3",
   "version": "3.10.5"
  }
 },
 "nbformat": 4,
 "nbformat_minor": 5
}
